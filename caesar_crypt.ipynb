{
 "metadata": {
  "language_info": {
   "codemirror_mode": {
    "name": "ipython",
    "version": 3
   },
   "file_extension": ".py",
   "mimetype": "text/x-python",
   "name": "python",
   "nbconvert_exporter": "python",
   "pygments_lexer": "ipython3",
   "version": "3.8.5-final"
  },
  "orig_nbformat": 2,
  "kernelspec": {
   "name": "Python 3.8.5 64-bit",
   "display_name": "Python 3.8.5 64-bit",
   "metadata": {
    "interpreter": {
     "hash": "767d51c1340bd893661ea55ea3124f6de3c7a262a8b4abca0554b478b1e2ff90"
    }
   }
  }
 },
 "nbformat": 4,
 "nbformat_minor": 2,
 "cells": [
  {
   "cell_type": "code",
   "execution_count": 13,
   "metadata": {
    "tags": []
   },
   "outputs": [
    {
     "output_type": "stream",
     "name": "stdout",
     "text": "Plain text: BEZI LISKA K TABORU\nEncrypted text: EHCL OLVND N WDERUX\n"
    }
   ],
   "source": [
    "# Crypt\n",
    "\n",
    "shift = 3 # defining the shift count\n",
    "\n",
    "text = \"BEZI LISKA K TABORU\"\n",
    "\n",
    "encryption = \"\"\n",
    "\n",
    "for c in text:\n",
    "\n",
    "    # check if character is an uppercase letter\n",
    "    if c.isupper():\n",
    "\n",
    "        # find the position in 0-25\n",
    "        c_unicode = ord(c)\n",
    "\n",
    "        c_index = ord(c) - ord(\"A\")\n",
    "\n",
    "        # perform the shift\n",
    "        new_index = (c_index + shift) % 26\n",
    "\n",
    "        # convert to new character\n",
    "        new_unicode = new_index + ord(\"A\")\n",
    "\n",
    "        new_character = chr(new_unicode)\n",
    "\n",
    "        # append to encrypted string\n",
    "        encryption = encryption + new_character\n",
    "\n",
    "    else:\n",
    "\n",
    "        # since character is not uppercase, leave it as it is\n",
    "        encryption += c\n",
    "        \n",
    "print(\"Plain text:\",text)\n",
    "\n",
    "print(\"Encrypted text:\",encryption)\n",
    "\n"
   ]
  },
  {
   "cell_type": "code",
   "execution_count": 14,
   "metadata": {
    "tags": []
   },
   "outputs": [
    {
     "output_type": "stream",
     "name": "stdout",
     "text": "Encrypted text: EHCL OLVND N WDERUX\nDecrypted text: BEZI LISKA K TABORU\n"
    }
   ],
   "source": [
    "# Decrypt\n",
    "\n",
    "shift = 3 # defining the shift count\n",
    "\n",
    "encrypted_text = \"EHCL OLVND N WDERUX\"\n",
    "\n",
    "plain_text = \"\"\n",
    "\n",
    "for c in encrypted_text:\n",
    "\n",
    "    # check if character is an uppercase letter\n",
    "    if c.isupper():\n",
    "\n",
    "        # find the position in 0-25\n",
    "        c_unicode = ord(c)\n",
    "\n",
    "        c_index = ord(c) - ord(\"A\")\n",
    "\n",
    "        # perform the negative shift\n",
    "        new_index = (c_index - shift) % 26\n",
    "\n",
    "        # convert to new character\n",
    "        new_unicode = new_index + ord(\"A\")\n",
    "\n",
    "        new_character = chr(new_unicode)\n",
    "\n",
    "        # append to plain string\n",
    "        plain_text = plain_text + new_character\n",
    "\n",
    "    else:\n",
    "\n",
    "        # since character is not uppercase, leave it as it is\n",
    "        plain_text += c\n",
    "\n",
    "print(\"Encrypted text:\",encrypted_text)\n",
    "\n",
    "print(\"Decrypted text:\",plain_text)"
   ]
  },
  {
   "cell_type": "code",
   "execution_count": 15,
   "metadata": {
    "tags": []
   },
   "outputs": [
    {
     "output_type": "stream",
     "name": "stdout",
     "text": "Plain text:\n we will call the first manned moon mission the Project Apollo\nEncrypted text:\n xg zjno dcom vkf hlsuw ncqogg nqro oltulpp wig Puplhdv Aspnop\n"
    }
   ],
   "source": [
    "def vigenere_cipher(text, keys, decrypt=False):\n",
    "\n",
    "    # vigenere cipher for lowercase letters\n",
    "    n = len(keys)\n",
    "\n",
    "    translatedText =\"\"\n",
    "\n",
    "    i = 0 #used to record the count of lowercase characters processed so far\n",
    "\n",
    "    # iterate over each character in the text\n",
    "    for c in text:\n",
    "\n",
    "        #translate only if c is lowercase\n",
    "        if c.islower():\n",
    "\n",
    "            shift = keys[i%n] #decide which key is to be used\n",
    "\n",
    "            if decrypt == True:\n",
    "\n",
    "                # if decryption is to be performed, make the key negative\n",
    "                shift = -shift\n",
    "\n",
    "            # Perform the shift operation\n",
    "            shifted_c = chr((ord(c) - ord('a') + shift)%26 + ord('a'))\n",
    "\n",
    "            translatedText += shifted_c\n",
    "\n",
    "            i += 1\n",
    "\n",
    "        else:\n",
    "\n",
    "            translatedText += c\n",
    "            \n",
    "    return translatedText\n",
    "\n",
    "text = \"bezi liska k taboru\"\n",
    "\n",
    "encrypted_text = vigenere_cipher(text, [1,2,3])\n",
    "\n",
    "print(\"Plain text:\\n\", text)\n",
    "\n",
    "print(\"Encrypted text:\\n\", encrypted_text)"
   ]
  },
  {
   "cell_type": "code",
   "execution_count": null,
   "metadata": {},
   "outputs": [],
   "source": []
  }
 ]
}